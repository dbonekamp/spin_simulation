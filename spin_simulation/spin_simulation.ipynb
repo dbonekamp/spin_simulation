{
 "cells": [
  {
   "cell_type": "markdown",
   "metadata": {},
   "source": [
    "# Insights into Magnetic Resonance Imaging\n",
    "\n",
    "## Simulation of a Spin Ensemble and a Spin Echo Experiment\n",
    "\n",
    "First we import the required libraries."
   ]
  },
  {
   "cell_type": "code",
   "execution_count": 1,
   "metadata": {},
   "outputs": [],
   "source": [
    "import sys\n",
    "import numpy as np\n",
    "import cmath\n",
    "import math\n",
    "import matplotlib.pyplot as plt"
   ]
  },
  {
   "cell_type": "markdown",
   "metadata": {},
   "source": [
    "We remember how we can use matplotlib to plot a graph into our Jupyter Notebook.\n",
    "Here an example on how to plot a linear graph supported by 4 points.\n",
    "Remember that the index in Python starts with zero."
   ]
  },
  {
   "cell_type": "code",
   "execution_count": 2,
   "metadata": {},
   "outputs": [
    {
     "data": {
      "image/png": "[encoded data removed]",
      "text/plain": [
       "<Figure size 640x480 with 1 Axes>"
      ]
     },
     "metadata": {},
     "output_type": "display_data"
    }
   ],
   "source": [
    "import matplotlib.pyplot as plt\n",
    "plt.plot([1, 2, 3, 4])\n",
    "plt.ylabel('some numbers')\n",
    "plt.show()"
   ]
  },
  {
   "cell_type": "markdown",
   "metadata": {},
   "source": [
    "## The Vector Class\n",
    "\n",
    "Some linear algebra is required. Here, we provide functionality for three-dimensional vectors.\n",
    "It is possible to rotate the vectors around the x-axis and z-axis.\n",
    "\n",
    "- Rotation around the z-axis\n",
    "This is used to represent precession. Any vector that is tiltet against the z-axis will precess at the Larmor frequency.\n",
    "So this is happening without any radiofrequency pulses being applied.\n",
    "\n",
    "- Rotation around the x-axis\n",
    "This is simulating a radiofrequency (RF)-pulse applied along the x-axis. Using such a pulse, the magnetization can be modified. For a system in equilibrium, the entire z-magnetization is aligned along the z-axis. So, a RF pulse can be used to bring the magnetization out of equilibrium."
   ]
  },
  {
   "cell_type": "code",
   "execution_count": 33,
   "metadata": {},
   "outputs": [],
   "source": [
    "class Vector:\n",
    "    def __init__(self, x, y, z):\n",
    "        self.value = np.array([x,y,z])\n",
    "        self.precision_digits=8\n",
    "    def rotatez(self, angle):\n",
    "        rotmatz = np.array([[    math.cos(angle), -math.sin(angle), 0.0],\n",
    "                                [math.sin(angle), math.cos(angle), 0.0],\n",
    "                                [0.0, 0.0, 1.0]\n",
    "                        ])\n",
    "        self.value = np.dot(rotmatz, self.value)\n",
    "        return self\n",
    "    def rotatex(self, angle):\n",
    "        rotmatz = np.array([   [1.0, 0.0, 0.0],\n",
    "                            [  0.0, math.cos(angle), -math.sin(angle)],\n",
    "                                [0.0, math.sin(angle), math.cos(angle)],\n",
    "                                \n",
    "                        ])\n",
    "        self.value = np.dot(rotmatz, self.value)\n",
    "        return self    \n",
    "    def print(self):\n",
    "        print(self.toString())\n",
    "    def toString(self):\n",
    "        return f\"({self.value[0]}, {self.value[1]}, {self.value[2]})\"\n",
    "    def mult(self, factor):\n",
    "        self.value = self.value * factor\n",
    "        return self\n",
    "    def add(self, summand):\n",
    "        self.value = self.value + summand.value\n",
    "        return self   \n",
    "    def norm(self):\n",
    "        return np.linalg.norm(self.value) \n",
    "    def round(self):\n",
    "        self.value = np.around(self.value, decimals=self.precision_digits) \n",
    "        return self\n",
    "    def projectxy(self):\n",
    "        return Vector(self.value[0], self.value[1], 0.0)"
   ]
  },
  {
   "cell_type": "markdown",
   "metadata": {},
   "source": [
    "### Let's try out the Vector Class:\n",
    "\n",
    "We can instantiate a **Vector Object** by using the constructor:\n",
    "\n",
    "`v = Vector(0,0,1)` creates one Vector with x,y,z = (0,0,1)\n",
    "\n",
    "If we rotate this vector around the x-axis, the vector length does not change.\n",
    "Vector length is the **vector norm**\n",
    "\n",
    "You see that the vector norm does not change no matter by which amount you rotate the vector around the x- or z-axes."
   ]
  },
  {
   "cell_type": "code",
   "execution_count": 36,
   "metadata": {},
   "outputs": [
    {
     "name": "stdout",
     "output_type": "stream",
     "text": [
      "Freshly instantiated vector object (0, 0, 1)\n",
      "Vector norm is 1.0\n",
      "Vector after rotation (0.0, -0.70710678, 0.70710678)\n",
      "Vector norm is 1.0\n",
      "Vector after rotation (0.5, -0.5, 0.70710678)\n",
      "Vector norm is 1.0\n",
      "Vector after rotation (0.0, 0.70710678, 0.70710678)\n",
      "Vector norm is 1.0\n",
      "Vector after rotation (0.0, -1.0, 0.0)\n",
      "Vector norm is 1.0\n"
     ]
    }
   ],
   "source": [
    "v = Vector(0,0,1)\n",
    "print(f\"Freshly instantiated vector object {v.toString()}\")\n",
    "print(f\"Vector norm is {v.norm()}\")\n",
    "\n",
    "v.rotatex(np.deg2rad(45)).round()\n",
    "print(f\"Vector after rotation {v.toString()}\")\n",
    "print(f\"Vector norm is {round(v.norm(), ndigits = 8)}\")\n",
    "\n",
    "v.rotatez(np.deg2rad(45)).round()\n",
    "print(f\"Vector after rotation {v.toString()}\")\n",
    "print(f\"Vector norm is {round(v.norm(), ndigits = 8)}\")\n",
    "\n",
    "v.rotatez(np.deg2rad(135)).round()\n",
    "print(f\"Vector after rotation {v.toString()}\")\n",
    "print(f\"Vector norm is {round(v.norm(), ndigits = 8)}\")\n",
    "\n",
    "v.rotatex(np.deg2rad(135)).round()\n",
    "print(f\"Vector after rotation {v.toString()}\")\n",
    "print(f\"Vector norm is {round(v.norm(), ndigits = 8)}\")"
   ]
  },
  {
   "cell_type": "markdown",
   "metadata": {},
   "source": [
    "There is a little trick involved here, to make the output look better.\n",
    "There are rounding errors in any computation using floating point numbers. \n",
    "Floating point numbers are the way the computer represents the decimal digits of numbers. As there is only limited space and specifically in trigonometric functions like sine and cosine infinite decimals occur, rounding errors must occur.\n",
    "For this example, we repeatedly call the `round` function of the class, to remove the small rounding errors.\n",
    "\n",
    "## Exercise:\n",
    "Change the rotation angles above and the vector itself and observe the effects.\n",
    "You may add more rotations or simplify to less rotations.\n",
    "Try negative rotations.\n",
    "Use a real world object like a pen and paper drawings to understand the way the rotations work.\n",
    "\n",
    "## Exercise:\n",
    "Try out other functions of the vector class, such as `projectxy`, which gives the vector projected onto the x/y-plane."
   ]
  },
  {
   "cell_type": "markdown",
   "metadata": {},
   "source": [
    "## The Spin Class\n",
    "\n",
    "We will now utilize the *Vector Class* to implement a **Spin Class**.\n",
    "This class will represent some properties of a small **spin**. A spin is the smallest component of the MRI experiment that we are simulating. Everything we do in the next steps will result in changes to the spin objects. Every single spin object holds a specific state of a spin that it represents. By later using many spin objects at once, we can manipulate them in different ways and store the information in a large set of many spin objects.\n",
    "\n",
    "But before we do that, we need to define what one single spin needs to know about itself:\n",
    "\n",
    "* It should know the precession frequency. While in the big perspective, all spins precess about at the **Larmor Frequency**, which is approximately **64 MHz at 1.5 Tesla**, there are frequency shifts that individual spins experience that lower or increase the local Larmor Frequency by a few **parts per million (ppm)**. Such small frequency shifts can be deliberate, e.g. by applying external gradient fields, but thay can also be a property of the matter itself, e.g. caused by susceptibility differences between different tissue components. So, each spin stores its current precession frequency in a class variable called `frequency`. Recall that class variables are referenced by adding the `self` object, e.g. `self.frequency` refers to the class variable `frequency` of the current object.\n",
    "\n",
    "* It knows its magnitude. That is the vector norm. Note that when the object is instantiated in the `__init__` function. A unit vector, i.e. a vector of magnitude one, is created along the z-axis and multiplied by the magnitude, resulting in a vector of the desired magnitude.\n",
    "\n",
    "### Exercise:\n",
    "Experiment with the vector norm function in the previous example (where you rotated vectors), by instantiating unit vectors, multiplying them and checking the resulting norm and the stability of this norm under rotation.\n"
   ]
  },
  {
   "cell_type": "code",
   "execution_count": null,
   "metadata": {},
   "outputs": [],
   "source": [
    "# Use this space to experiment, you may want to copy some code from above"
   ]
  },
  {
   "cell_type": "markdown",
   "metadata": {},
   "source": [
    "\n",
    "* It also holds information about its Vector Object. In a sense, a Spin Object is mainly a Vector Object, but it allows some operations that are not basic Vector operations but specific to Spins.\n",
    "\n",
    "* It provides several functions that make sense to be applied to a Spin Object:\n",
    "\n",
    "    * Precession: Precession is what happens to a spin in a magnetic field automatically over time. \n",
    "\n",
    "    ### Exercise:\n",
    "    Read through the `precess(self, time_msec)` function and try to understand what it does.\n",
    "    <details>\n",
    "        <summary>Answer</summary>\n",
    "        It divides the time given in milliseconds by 1000, to obtain the time in seconds.\n",
    "        It then calculates the radians of a full rotation of 2*pi and multiplies that by the previous result.\n",
    "        This gives the amount of rotation in radians that occurs in one second if the frequency is 1 Hertz.\n",
    "        We then multiply by `self.frequency` to obtain the rotations at this frequency.\n",
    "    </details>\n",
    "\n",
    "* It also provides a possibility to be rotated around the x-axis. Here, the angle in radians is provided as an argument directly."
   ]
  },
  {
   "cell_type": "code",
   "execution_count": 37,
   "metadata": {},
   "outputs": [],
   "source": [
    "class Spin:\n",
    "    def __init__(self, frequency, magnitude):\n",
    "        self.frequency = frequency\n",
    "        self.magnitude = magnitude\n",
    "        self.vector = Vector(0.0, 0.0, 1.0).mult(magnitude);\n",
    "    def getFrequency(self):\n",
    "        return self.frequency\n",
    "    def precess(self, time_msec):\n",
    "        angle = ((time_msec/1000)*2.0*math.pi)*self.frequency\n",
    "        #print(f\"angle = {angle}\")\n",
    "        self.vector = self.vector.rotatez(angle)\n",
    "    def print(self):\n",
    "        print(f\"Frequency = {self.frequency}, vector = {self.vector.toString()}, magnitude = {self.magnitude}\")\n",
    "    def magnitude(self):\n",
    "        return np.norm(self.vector.projectxy())    \n",
    "    def reset(self):\n",
    "        self.vector = Vector(0.0, 0.0, self.vector.norm())  \n",
    "    def rotatex(self, angle):\n",
    "        self.vector = self.vector.rotatex(angle)"
   ]
  },
  {
   "cell_type": "markdown",
   "metadata": {},
   "source": [
    "## The Spin Ensemble Class\n",
    "\n",
    "This class now collects many spins into one unit called a **spin ensemble**.\n",
    "A *spin ensemble* is thus a collection of many spins. How many can be provided to the constructor as an argument `number_spins`.\n",
    "\n",
    "The constructor also takes the arguments `offset_frequency` and `stdev_offset`, which are used to generate a Gaussian distribution of Spin frequencies within the ensemble with mean and standard deviation according to these parameters.\n",
    "\n",
    "The result is a collection of many Spin Objects, all with different frequencies.\n",
    "\n",
    "One can calculate a magnitude for the entire ensemble, which is the vector sum of all spins in the ensemble.\n",
    "\n",
    "### Exercise:\n",
    "Read through the following Class definition and try to understand what the Class Functions do, and why they may be needed."
   ]
  },
  {
   "cell_type": "code",
   "execution_count": 38,
   "metadata": {},
   "outputs": [],
   "source": [
    "class Spinensemble:\n",
    "    \n",
    "    def __init__(self, number_spins, offset_frequency, stdev_offset):\n",
    "        magnitude = 2.0\n",
    "        self.spin_array = [ Spin(freq, magnitude) for freq in np.random.normal(offset_frequency, stdev_offset, number_spins)]\n",
    "    def precess(self, time_msec):\n",
    "        for spin in self.spin_array:\n",
    "            spin.precess(time_msec)\n",
    "    def magnitude(self):\n",
    "        res = Vector(0.0,0.0,0.0)\n",
    "        for spin in self.spin_array:\n",
    "            res=res.add(spin.vector)\n",
    "        return res.norm()\n",
    "    def magnitudeAfterPrecession(self,time_msec):     \n",
    "        self.precess(time_msec)      \n",
    "        return self.magnitude\n",
    "    def invert(self):\n",
    "        for spin in self.spin_array:\n",
    "            spin.frequency = -spin.frequency\n",
    "    def phase_reset(self):\n",
    "        for spin in self.spin_array:\n",
    "            spin.reset()\n",
    "    def x_pulse(self, angle_in_deg):\n",
    "        for spin in self.spin_array:\n",
    "            spin.rotatex(np.deg2rad(angle_in_deg))   "
   ]
  },
  {
   "cell_type": "markdown",
   "metadata": {},
   "source": [
    "### Exercise:\n",
    "Instantiate a Spinensemble Class Object and use the class functions to manipulate the magnetization, print your results and try to understand why the output changes in the way it does under these manipulations:"
   ]
  },
  {
   "cell_type": "code",
   "execution_count": null,
   "metadata": {},
   "outputs": [],
   "source": [
    "# Experiment here"
   ]
  },
  {
   "cell_type": "markdown",
   "metadata": {},
   "source": [
    "<details>\n",
    "<summary>Example Code and Some Useful Constants</summary>\n",
    "The following code may be useful for you to experiment\n",
    "\n",
    "Note that some reasonable values for a typical spin ensemble setup are provided in the section of constants at the top. E.g. a Larmor Frequency of 64 MHz, modeling a 1.5 Tesla MRI system.\n",
    "   \n",
    "```python\n",
    "number_spins = 1000\n",
    "larmor_frequency = 64.0e6 #Hz\n",
    "offset_frequency = 4.7e-6 * larmor_frequency\n",
    "stdev_offset = 0.2e-6 * larmor_frequency\n",
    "stdev_larmor = 0.2e-6 #ppm\n",
    "\n",
    "print(f\"offset_frequency = {offset_frequency}, stdev_offset = {stdev_offset}\")\n",
    "\n",
    "# spin = Spin(offset_frequency+stdev_offset, 2.0)\n",
    "# spin.print()\n",
    "# spin.precess(1)\n",
    "# spin.print()\n",
    "# #1.0/larmor_frequency = 1.5625e-08\n",
    "\n",
    "spins = Spinensemble(number_spins, offset_frequency, stdev_offset)\n",
    "\n",
    "print(spins.magnitude())\n",
    "spins.x_pulse(90)\n",
    "spins.precess(10)\n",
    "print(spins.magnitude())`\n",
    "```\n",
    "</details>"
   ]
  },
  {
   "cell_type": "markdown",
   "metadata": {},
   "source": [
    "## A Spin Echo Experiment on a Spin Ensemble\n",
    "\n",
    "Now that you have experimented with the Classes **Vector**, **Spin** and **Spinensemble**, you might have the impression that it is far to go to simulate an MRI experiment to gain some interesting insights from.\n",
    "However, the next code example shows that we can now utilize the mentioned classes to provide a spin echo experiment and follow the magnetization of the spin ensemble over time graphically."
   ]
  },
  {
   "cell_type": "code",
   "execution_count": 39,
   "metadata": {},
   "outputs": [
    {
     "data": {
      "text/plain": [
       "[<matplotlib.lines.Line2D at 0x19e4779e210>]"
      ]
     },
     "execution_count": 39,
     "metadata": {},
     "output_type": "execute_result"
    },
    {
     "data": {
      "image/png": "[encoded data removed]",
      "text/plain": [
       "<Figure size 640x480 with 1 Axes>"
      ]
     },
     "metadata": {},
     "output_type": "display_data"
    }
   ],
   "source": [
    "number_spins = 1000\n",
    "larmor_frequency = 64.0e6 #Hz\n",
    "offset_frequency = 4.7e-6 * larmor_frequency\n",
    "stdev_offset = 0.3e-6 * larmor_frequency\n",
    "stdev_larmor = 0.2e-6 #ppm\n",
    "\n",
    "spins = Spinensemble(number_spins, offset_frequency, stdev_offset)\n",
    "\n",
    "spins.phase_reset()\n",
    "signal_over_time = []\n",
    "for i in range (1000):\n",
    "    signal_over_time.append(spins.magnitude())\n",
    "    spins.precess(1)\n",
    "    if i==50:\n",
    "        spins.x_pulse(90)\n",
    "    if i==100 or i==300:\n",
    "        spins.invert()\n",
    "#signal_over_time\n",
    "plt.plot(signal_over_time)\n",
    "# plt.ylabel('some numbers')\n",
    "# plt.show()"
   ]
  }
 ],
 "metadata": {
  "kernelspec": {
   "display_name": "Python 3",
   "language": "python",
   "name": "python3"
  },
  "language_info": {
   "codemirror_mode": {
    "name": "ipython",
    "version": 3
   },
   "file_extension": ".py",
   "mimetype": "text/x-python",
   "name": "python",
   "nbconvert_exporter": "python",
   "pygments_lexer": "ipython3",
   "version": "3.11.0"
  }
 },
 "nbformat": 4,
 "nbformat_minor": 2
}
